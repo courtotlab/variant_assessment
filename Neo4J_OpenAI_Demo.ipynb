{
 "cells": [
  {
   "cell_type": "markdown",
   "metadata": {},
   "source": [
    "## Import libraries"
   ]
  },
  {
   "cell_type": "code",
   "execution_count": null,
   "metadata": {},
   "outputs": [],
   "source": [
    "from langchain.graphs import Neo4jGraph\n",
    "from langchain_community.graphs.graph_document import (\n",
    "    Node as BaseNode,\n",
    "    Relationship as BaseRelationship,\n",
    "    GraphDocument\n",
    ")\n",
    "from langchain.schema import Document\n",
    "from typing import List, Dict, Any, Optional\n",
    "from langchain.pydantic_v1 import Field, BaseModel\n",
    "import os\n",
    "from langchain.chains.structured_output.base import (\n",
    "    create_openai_fn_runnable,\n",
    "    create_structured_output_runnable,\n",
    ")\n",
    "from langchain_openai import ChatOpenAI\n",
    "from langchain.prompts import ChatPromptTemplate\n",
    "from langchain_community.document_loaders import TextLoader\n",
    "import openai\n",
    "from langsmith.wrappers import wrap_openai\n",
    "from langsmith import traceable\n",
    "from langchain_community.chat_models import ChatOllama\n",
    "from langchain_neo4j import Neo4jGraph\n",
    "from neo4j.debug import watch"
   ]
  },
  {
   "cell_type": "markdown",
   "metadata": {},
   "source": [
    "## Connection to Neo4J Aura"
   ]
  },
  {
   "cell_type": "code",
   "execution_count": null,
   "metadata": {},
   "outputs": [
    {
     "ename": "",
     "evalue": "",
     "output_type": "error",
     "traceback": [
      "\u001b[1;31mRunning cells with 'Python 3.13.1' requires the ipykernel package.\n",
      "\u001b[1;31m<a href='command:jupyter.createPythonEnvAndSelectController'>Create a Python Environment</a> with the required packages.\n",
      "\u001b[1;31mOr install 'ipykernel' using the command: 'c:/Users/adnan/AppData/Local/Programs/Python/Python313/python.exe -m pip install ipykernel -U --user --force-reinstall'"
     ]
    }
   ],
   "source": [
    "watch('neo4j')\n",
    "\n",
    "url = \"https://2aee9011.databases.neo4j.io\"\n",
    "username =\"neo4j\"\n",
    "password = \"IjSw2rsQxHJezdBNzJMyNvmM2_fXEWHBU7OkodD8Wz4\"\n",
    "graph = Neo4jGraph(\n",
    "    url=url,\n",
    "    username=username,\n",
    "    password=password,\n",
    "    timeout=60\n",
    ")"
   ]
  },
  {
   "cell_type": "markdown",
   "metadata": {},
   "source": [
    "## Setup env variables"
   ]
  },
  {
   "cell_type": "code",
   "execution_count": null,
   "metadata": {},
   "outputs": [],
   "source": [
    "%env OPENAI_API_KEY=NO_KEY\n",
    "%env LANGCHAIN_TRACING_V2=true\n",
    "%env LANGCHAIN_API_KEY=YOUR_KEY"
   ]
  },
  {
   "cell_type": "markdown",
   "metadata": {},
   "source": [
    "## Class definitions for output structure in KG"
   ]
  },
  {
   "cell_type": "code",
   "execution_count": 4,
   "metadata": {},
   "outputs": [],
   "source": [
    "class Property(BaseModel):\n",
    "    \"\"\"A single property consisting of key and value\"\"\"\n",
    "    key: str = Field(..., description=\"key\")\n",
    "    value: str = Field(..., description=\"value\")\n",
    "\n",
    "class Node(BaseNode):\n",
    "    properties: Optional[List[Property]] = Field(None, description=\"List of node properties\")\n",
    "\n",
    "class Relationship(BaseRelationship):\n",
    "    properties: Optional[List[Property]] = Field(None, description=\"List of relationship properties\")\n",
    "\n",
    "class KnowledgeGraph(BaseModel):\n",
    "    \"\"\"Generate a knowledge graph with entities and relationships.\"\"\"\n",
    "    nodes: List[Node] = Field(..., description=\"List of nodes in the knowledge graph\")\n",
    "    rels: List[Relationship] = Field(..., description=\"List of relationships in the knowledge graph\")"
   ]
  },
  {
   "cell_type": "markdown",
   "metadata": {},
   "source": [
    "## Utilities for KG representation"
   ]
  },
  {
   "cell_type": "code",
   "execution_count": 5,
   "metadata": {},
   "outputs": [],
   "source": [
    "def format_property_key(s: str) -> str:\n",
    "    words = s.split()\n",
    "    if not words:\n",
    "        return s\n",
    "    first_word = words[0].lower()\n",
    "    capitalized_words = [word.capitalize() for word in words[1:]]\n",
    "    return \"\".join([first_word] + capitalized_words)\n",
    "\n",
    "def props_to_dict(props) -> dict:\n",
    "    \"\"\"Convert properties to a dictionary.\"\"\"\n",
    "    properties = {}\n",
    "    if not props:\n",
    "      return properties\n",
    "    for p in props:\n",
    "        properties[format_property_key(p.key)] = p.value\n",
    "    return properties\n",
    "\n",
    "def map_to_base_node(node: Node) -> BaseNode:\n",
    "    \"\"\"Map the KnowledgeGraph Node to the base Node.\"\"\"\n",
    "    properties = props_to_dict(node.properties) if node.properties else {}\n",
    "    # Add name property for better Cypher statement generation\n",
    "    properties[\"name\"] = node.id.title()\n",
    "    return BaseNode(\n",
    "        id=node.id.title(), type=node.type.capitalize(), properties=properties\n",
    "    )\n",
    "\n",
    "\n",
    "def map_to_base_relationship(rel: Relationship) -> BaseRelationship:\n",
    "    \"\"\"Map the KnowledgeGraph Relationship to the base Relationship.\"\"\"\n",
    "    source = map_to_base_node(rel.source)\n",
    "    target = map_to_base_node(rel.target)\n",
    "    properties = props_to_dict(rel.properties) if rel.properties else {}\n",
    "    return BaseRelationship(\n",
    "        source=source, target=target, type=rel.type, properties=properties\n",
    "    )"
   ]
  },
  {
   "cell_type": "markdown",
   "metadata": {},
   "source": [
    "## Create information extraction pipeline"
   ]
  },
  {
   "cell_type": "code",
   "execution_count": 26,
   "metadata": {},
   "outputs": [],
   "source": [
    "#LLM configuration - Set up model to use for data extraction\n",
    "\n",
    "#GPT API\n",
    "llm = ChatOpenAI(model=\"gpt-3.5-turbo-16k\", temperature=0)\n",
    "#Ollama - Llama3 or TinyLlama\n",
    "#llm = ChatOllama(model=\"llama3\")\n",
    "\n",
    "\n",
    "@traceable\n",
    "def get_extraction_chain(\n",
    "    allowed_nodes: Optional[List[str]] = None,\n",
    "    allowed_rels: Optional[List[str]] = None\n",
    "    ):\n",
    "    prompt = ChatPromptTemplate.from_messages(\n",
    "        [(\n",
    "          \"system\",\n",
    "          f\"\"\"# Knowledge Graph Instructions for GPT-4\n",
    "## 1. Overview\n",
    "You are a top-tier algorithm designed for extracting clinical and molecular information in structured formats to build a knowledge graph.\n",
    "- **Nodes** represent entities and concepts.\n",
    "- The aim is to achieve simplicity and clarity in the knowledge graph, respecting clinical terminology as its public will be healthcare workers.\n",
    "## 2. Labeling Nodes\n",
    "- **Consistency**: Ensure you use basic or elementary types for node labels.\n",
    "- **Node IDs**: Never utilize integers as node IDs. Node IDs should be names or human-readable identifiers found in the text.\n",
    "{'- **Allowed Node Labels:**' + \", \".join(allowed_nodes) if allowed_nodes else \"\"}\n",
    "{'- **Allowed Relationship Types**:' + \", \".join(allowed_rels) if allowed_rels else \"\"}\n",
    "## 3. Handling Numerical Data and Dates\n",
    "- Numerical data, like age or other related information, should be incorporated as attributes or properties of the respective nodes.\n",
    "- **No Separate Nodes for Dates/Numbers**: Do not create separate nodes for dates or numerical values. Always attach them as attributes or properties of nodes.\n",
    "- **Property Format**: Properties must be in a key-value format.\n",
    "- **Quotation Marks**: Never use escaped single or double quotes within property values.\n",
    "- **Naming Convention**: Use snake_case for property keys, e.g., 'birth_date'.\n",
    "## 4. Coreference Resolution\n",
    "- **Maintain Entity Consistency**: When extracting entities, it's vital to ensure consistency.\n",
    "If an entity, such as \"John Doe\", is mentioned multiple times in the text but is referred to by different names or pronouns (e.g., \"Joe\", \"he\", \"Mr. Doe\"),\n",
    "always use the most complete identifier for that entity throughout the knowledge graph. In this example, use \"John Doe\" as the entity ID.\n",
    "Remember, the knowledge graph should be coherent and easily understandable, so maintaining consistency in entity references is crucial.\n",
    "## 5. Strict Compliance\n",
    "Adhere to the rules strictly. Non-compliance will result in termination.\n",
    "          \"\"\"),\n",
    "            (\"human\", \"Use the given format to extract information from the following input: {input}\"),\n",
    "            (\"human\", \"Tip: Make sure to answer in the correct format\"),\n",
    "        ])\n",
    "    return create_structured_output_runnable(KnowledgeGraph, llm, prompt)"
   ]
  },
  {
   "cell_type": "code",
   "execution_count": 27,
   "metadata": {},
   "outputs": [],
   "source": [
    "def extract_and_store_graph(document: Document,nodes:Optional[List[str]] = None, rels:Optional[List[str]]=None) -> None:\n",
    "    # Extract graph data using OpenAI functions\n",
    "    extract_chain = get_extraction_chain(nodes, rels)\n",
    "    data = extract_chain.invoke(document.page_content)\n",
    "    # Construct a graph document\n",
    "    graph_document = GraphDocument(\n",
    "      nodes = [map_to_base_node(node) for node in data.nodes],\n",
    "      relationships = [map_to_base_relationship(rel) for rel in data.rels],\n",
    "      source = document\n",
    "    )\n",
    "    print(graph_document.dict())\n",
    "    # Store information into a graph\n",
    "    graph.add_graph_documents([graph_document])"
   ]
  },
  {
   "cell_type": "code",
   "execution_count": 28,
   "metadata": {},
   "outputs": [
    {
     "name": "stdout",
     "output_type": "stream",
     "text": [
      "{'nodes': [{'id': 'Cheo', 'type': 'Hospital', 'properties': {'name': 'Cheo', 'address': '401 Smyth Rd, Ottawa, Ontario K1H 8L1', 'phone': '613-737-7600 ext. 3796', 'fax': '613-738-4814'}}, {'id': 'Genetics Diagnostic Laboratory', 'type': 'Laboratory', 'properties': {'name': 'Genetics Diagnostic Laboratory', 'address': '401 Smyth Rd, Ottawa, Ontario K1H 8L1', 'phone': '613-737-7600 ext. 3796', 'fax': '613-738-4814'}}, {'id': 'Patient', 'type': 'Patient', 'properties': {'name': 'Patient'}}, {'id': 'Hereditary Breast/Ovarian/Prostate Cancer Panel', 'type': 'Panel', 'properties': {'status': 'In process', 'name': 'Hereditary Breast/Ovarian/Prostate Cancer Panel'}}, {'id': 'Vincent, Krista, Md', 'type': 'Physician', 'properties': {'name': 'Vincent, Krista, Md'}}, {'id': 'Zelenietz Sari', 'type': 'Physician', 'properties': {'name': 'Zelenietz Sari'}}, {'id': 'Specimen A', 'type': 'Specimen', 'properties': {'type': 'Genetics Blood, edta', 'quantity': 'x2', 'name': 'Specimen A'}}, {'id': 'Msh6', 'type': 'Gene', 'properties': {'name': 'Msh6'}}], 'relationships': [{'source': {'id': 'Cheo', 'type': 'Hospital', 'properties': {'name': 'Cheo'}}, 'target': {'id': 'Genetics Diagnostic Laboratory', 'type': 'Laboratory', 'properties': {'name': 'Genetics Diagnostic Laboratory'}}, 'type': 'Affiliated with', 'properties': {}}, {'source': {'id': 'Patient', 'type': 'Patient', 'properties': {'name': 'Patient'}}, 'target': {'id': 'Cheo', 'type': 'Hospital', 'properties': {'name': 'Cheo'}}, 'type': 'Located at', 'properties': {}}, {'source': {'id': 'Patient', 'type': 'Patient', 'properties': {'name': 'Patient'}}, 'target': {'id': 'Specimen A', 'type': 'Specimen', 'properties': {'name': 'Specimen A'}}, 'type': 'Has specimen', 'properties': {}}, {'source': {'id': 'Patient', 'type': 'Patient', 'properties': {'name': 'Patient'}}, 'target': {'id': 'Hereditary Breast/Ovarian/Prostate Cancer Panel', 'type': 'Panel', 'properties': {'name': 'Hereditary Breast/Ovarian/Prostate Cancer Panel'}}, 'type': 'Undergoing test', 'properties': {}}, {'source': {'id': 'Hereditary Breast/Ovarian/Prostate Cancer Panel', 'type': 'Panel', 'properties': {'name': 'Hereditary Breast/Ovarian/Prostate Cancer Panel'}}, 'target': {'id': 'Vincent, Krista, Md', 'type': 'Physician', 'properties': {'name': 'Vincent, Krista, Md'}}, 'type': 'Authorized by', 'properties': {}}, {'source': {'id': 'Hereditary Breast/Ovarian/Prostate Cancer Panel', 'type': 'Panel', 'properties': {'name': 'Hereditary Breast/Ovarian/Prostate Cancer Panel'}}, 'target': {'id': 'Zelenietz Sari', 'type': 'Physician', 'properties': {'name': 'Zelenietz Sari'}}, 'type': 'Ordered by', 'properties': {}}, {'source': {'id': 'Specimen A', 'type': 'Specimen', 'properties': {'name': 'Specimen A'}}, 'target': {'id': 'Genetics Diagnostic Laboratory', 'type': 'Laboratory', 'properties': {'name': 'Genetics Diagnostic Laboratory'}}, 'type': 'Received by', 'properties': {}}, {'source': {'id': 'Specimen A', 'type': 'Specimen', 'properties': {'name': 'Specimen A'}}, 'target': {'id': 'Msh6', 'type': 'Gene', 'properties': {'name': 'Msh6'}}, 'type': 'Tested for gene', 'properties': {}}], 'source': {'page_content': \"Draft - Do not use for patient care decisions\\nCHEO\\nGenetics Diagnostic Laboratory\\n401 Smyth Rd, Ottawa, Ontario K1H 8L1\\n(Phone) 613-737-7600 ext. 3796 (Fax) 613-738-4814\\nPatient:\\nLocation:\\nDOB/Sex:\\nPedigree:\\nCHEO MRN:\\nHereditary Breast/Ovarian/Prostate Cancer Panel (In process)\\nAuthorized by:\\nVincent, Krista, MD\\nCollected:\\n15/12/2023 1251\\nOrdered by:\\nZelenietz Sari\\nReceived:\\n15/12/2023 1509\\nID:\\nVerified On:\\n5/3/2024 1758\\nSpecimens\\nA\\nHereditary Breast/Ovarian/Prostate Cancer Panel, Genetics Blood, edta x2\\nReason for Referral\\n(GD1) > or = 5% likelihood of Pathogenic/Likely Pathogenic variant in affected or unaffected individual\\nMOLECULAR GENETIC RESULT\\nSummary of Results: Variant of uncertain clinical significance detected\\nFinding(s):\\nGene\\nVariant (c.)\\nAmino acid change\\nZygosity\\nInterpretation\\n(p.)\\nMSH6\\nc.2886T>G\\np.(lle962Met)\\nheterozygous\\nvariant of uncertain clinical\\nsignificance\\nINTERPRETATION:\\nA variant of uncertain clinical significance was detected in this individual. The interpretation of this result is summarized\\nbelow.\\nThe c.2886T>G variant in MSH6 causes an amino acid substitution, which replaces isoleucine with methionine at position\\n962. It was identified in 1/250010 (0.0004%) of alleles tested from control populations in the Genome Aggregation\\nDatabase (gnomAD). To the best of our knowledge, it has not been previously reported in the literature. The lle962\\nresidue is weakly conserved in evolution. In silico analysis programs (SIFT, PolyPhen-2, Mutation Taster) predict this\\nvariant to be tolerated. This variant is listed in ClinVar (VCV000483847). In our opinion, the evidence collected to date is\\ninsufficient to firmly establish the clinical significance of this variant; therefore it is classified as a variant of uncertain\\nclinical significance.\\nPlease refer to the ClinVar database for further information about this variant(s). If a formal variant re-evaluation is\\nrequired, please contact our laboratory.\\nNo other clinically relevant sequence variants or large deletions or duplications were detected in the genes tested (see the\\nTest Details section). Although no other pathogenic variants have been found, as the analytical sensitivity of this analysis\\nbased on results of validation studies performed by our laboratory is ~99%, it is possible that a pathogenic variant not\\ndetectable by these assays is present in one of these genes In addition, as this test does not detect all clinically significant\\nvariants associated with this disorder, it is also possible that a pathogenic variant in another gene not tested is present in\\nthis individual.\\nGenes included in this panel are associated with an increased risk for certain types of hereditary cancers. While the\\nmajority of cancers occur sporadically, a proportion may be due to inherited pathogenic variants in genes associated with\\ncancer. Pathogenic variants in these genes are associated with an increased susceptibility to certain malignancies,\\nautosomal recessive conditions, and may cause other non-cancer related symptoms. It is important to note that not all\\nindividuals with a pathogenic variant will develop cancer. Genetic testing of at-risk first degree relatives should be\\nconsidered once identification of a variant has occurred in a proband. The reproductive implications of being a carrier of a\\npathogenic variant should be discussed with an appropriate health care professional. Genetic counselling is recommended\\nconcerning the implications of these results to this individual and this individual's family.\\nThis assay is based on the current state of knowledge of the genetic basis of this disorder and designed to identify\\nconstitutional genetic changes in the tested genes/loci (see Test Details). The possibility of null alleles due to rare family\\nspecific variants in the primer/probe binding sites cannot be completely ruled out. Family relationships are assumed as\\nstated and no attempt has been made to verify these relationships. Laboratory results are subject to approximately 0.5%\\nerror in any of the pre-analytical, analytical or post-analytical phases of the test [Clin.Chem(48(5):691-698].\\nMethodology Used\\nNext Generation Sequencing HEREDITARY BREAST AND OVARIAN CANCER 18 gene panel, HOXB13 c.251G>A\\n(p.Gly84Glu) variant sequencing, and MLPA for a subset of genes\\nElectronically signed by [Not yet signed] on [Date] at [Time]\\nTest Details\\nGenes analyzed: ATM, BARD1, BRCA1, BRCA2, BRIP1, CDH1, CHEK2, EPCAM*, HOXB13^, MLH1, MSH2, MSH6,\\nPALB2, PMS2, PTEN, RAD51C, RAD51D, STK11, TP53\\nGenomic DNA is enriched for targeted regions using custom designed capture probes (KAPA HyperChoice) and a\\nhybridization-based protocol (KAPA HyperPlus Custom Library, KAPA Biosystems-Roche) followed by next generation\\nsequencing (NGS) on a NextSeq platform (Illumina). Read alignment and single nucleotide variants (SNV) and small\\ninsertion/deletions (indels) calling are performed using NextGENe software (SNP/INDEL analysis, SoftGenetics). SNVs\\nand indels within coding exons and 20 bps flanking regions are analyzed. Certain known likely pathogenic or pathogenic\\nvariants outside these regions are also included in the analysis (for a complete list please contact our laboratory). Exonic\\ndeletions and duplications in all targeted genes (except PMS2) are called using an in-house copy number variant (CNV)\\nanalysis algorithm (PMID 27376475). Multiplex ligation-dependent probe amplification (MLPA) is performed for CNV\\nanalysis for PMS2 Note that some MLPA kits used as part of this test may contain probes for genes or variants that are\\nnot included in our test panels, which could result in incidental findings. All reported variants are confirmed by a second\\ntechnology including Sanger sequencing, MLPA, long range PCR, or qPCR. Based on validation study results, this assay\\nachieves >99% analytical sensitivity and specificity for SNV, indels <10bp in length and exonic deletions and duplications;\\nhowever, sensitivity for indels larger than 10bp but smaller than a full exon may be reduced This assay is not designed\\nand validated for detection of mosaicism. The following genes and corresponding exons are prone to misalignment due\\nto\\npresence of highly homologous regions in the genome, and therefore, are at increased risk of false results: ATM exon 28,\\nCHEK2 exons 11-15, PTEN exon 9 and PMS2 exons 1-5, 9, 11-15 (PMID 27228465). Variant nomenclature is based on\\nthe Human Genome Variation Society guidelines. Variant interpretation and classification is based on published guidelines\\n(PMID 25741868). Only pathogenic, likely pathogenic, and variants of uncertain clinical significance are reported.\\nThe following transcripts are used in this analysis: ATM (NM 000051.3), BARD1 (NM 000465.2), BRCA1 NM_007294.3),\\nBRCA2 (NM_000059,3), BRIP1 (NM_032043,2), CDH1 (NM_004360.3), CHEK2 (NM_007194.3), EPCAM\\n(NM_002354.2), HOXB13 (NM_006361.5), MLH1 (NM_000249.3), MSH2 (NM_000251.2), MSH6 (NM_000179.2), PALB2\\n(NM_024675.3), PMS2 (NM_000535.5), PTEN (NM_000314.4), RAD51C (NM_058216.1), RAD51D (NM_002878,3),\\nSTK11 (NM_000455.4), and TP53 (NM_000546.5).\\n*CNV analysis only: ^single variant c.251G>A p.(Gly84Glu) only\", 'metadata': {'source': './input_docs/test_input.txt'}, 'type': 'Document'}}\n"
     ]
    }
   ],
   "source": [
    "loader = TextLoader('./input_docs/test_input.txt')\n",
    "doc_input = loader.load()\n",
    "\n",
    "try:\n",
    "    extract_and_store_graph(doc_input[0])\n",
    "except Exception as e:\n",
    "    print(type(e))\n",
    "    print(e)"
   ]
  }
 ],
 "metadata": {
  "kernelspec": {
   "display_name": "Python 3",
   "language": "python",
   "name": "python3"
  },
  "language_info": {
   "codemirror_mode": {
    "name": "ipython",
    "version": 3
   },
   "file_extension": ".py",
   "mimetype": "text/x-python",
   "name": "python",
   "nbconvert_exporter": "python",
   "pygments_lexer": "ipython3",
   "version": "3.13.1"
  }
 },
 "nbformat": 4,
 "nbformat_minor": 2
}
